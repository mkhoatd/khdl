{
 "cells": [
  {
   "attachments": {},
   "cell_type": "markdown",
   "metadata": {},
   "source": [
    "### Bài 3: Viết CT Python (ko dùng các hàm thư viện) để tính các ước lượng về độ biến thiên dữ liệu dân số và dữ liệu tội phạm của các bang nước Mỹ (dataset như BT 2) gồm: độ lệch chuẩn, IQR, và MAD"
   ]
  },
  {
   "attachments": {},
   "cell_type": "markdown",
   "metadata": {},
   "source": [
    "#### Đọc data"
   ]
  },
  {
   "cell_type": "code",
   "execution_count": 27,
   "metadata": {},
   "outputs": [],
   "source": [
    "import pandas as pd"
   ]
  },
  {
   "cell_type": "code",
   "execution_count": 28,
   "metadata": {},
   "outputs": [],
   "source": [
    "dataset = pd.read_csv('state.csv')"
   ]
  },
  {
   "cell_type": "code",
   "execution_count": 29,
   "metadata": {},
   "outputs": [
    {
     "data": {
      "text/html": [
       "<div>\n",
       "<style scoped>\n",
       "    .dataframe tbody tr th:only-of-type {\n",
       "        vertical-align: middle;\n",
       "    }\n",
       "\n",
       "    .dataframe tbody tr th {\n",
       "        vertical-align: top;\n",
       "    }\n",
       "\n",
       "    .dataframe thead th {\n",
       "        text-align: right;\n",
       "    }\n",
       "</style>\n",
       "<table border=\"1\" class=\"dataframe\">\n",
       "  <thead>\n",
       "    <tr style=\"text-align: right;\">\n",
       "      <th></th>\n",
       "      <th>State</th>\n",
       "      <th>Population</th>\n",
       "      <th>Murder.Rate</th>\n",
       "      <th>Abbreviation</th>\n",
       "    </tr>\n",
       "  </thead>\n",
       "  <tbody>\n",
       "    <tr>\n",
       "      <th>0</th>\n",
       "      <td>Alabama</td>\n",
       "      <td>4779736</td>\n",
       "      <td>5.7</td>\n",
       "      <td>AL</td>\n",
       "    </tr>\n",
       "    <tr>\n",
       "      <th>1</th>\n",
       "      <td>Alaska</td>\n",
       "      <td>710231</td>\n",
       "      <td>5.6</td>\n",
       "      <td>AK</td>\n",
       "    </tr>\n",
       "    <tr>\n",
       "      <th>2</th>\n",
       "      <td>Arizona</td>\n",
       "      <td>6392017</td>\n",
       "      <td>4.7</td>\n",
       "      <td>AZ</td>\n",
       "    </tr>\n",
       "    <tr>\n",
       "      <th>3</th>\n",
       "      <td>Arkansas</td>\n",
       "      <td>2915918</td>\n",
       "      <td>5.6</td>\n",
       "      <td>AR</td>\n",
       "    </tr>\n",
       "    <tr>\n",
       "      <th>4</th>\n",
       "      <td>California</td>\n",
       "      <td>37253956</td>\n",
       "      <td>4.4</td>\n",
       "      <td>CA</td>\n",
       "    </tr>\n",
       "    <tr>\n",
       "      <th>5</th>\n",
       "      <td>Colorado</td>\n",
       "      <td>5029196</td>\n",
       "      <td>2.8</td>\n",
       "      <td>CO</td>\n",
       "    </tr>\n",
       "    <tr>\n",
       "      <th>6</th>\n",
       "      <td>Connecticut</td>\n",
       "      <td>3574097</td>\n",
       "      <td>2.4</td>\n",
       "      <td>CT</td>\n",
       "    </tr>\n",
       "    <tr>\n",
       "      <th>7</th>\n",
       "      <td>Delaware</td>\n",
       "      <td>897934</td>\n",
       "      <td>5.8</td>\n",
       "      <td>DE</td>\n",
       "    </tr>\n",
       "    <tr>\n",
       "      <th>8</th>\n",
       "      <td>Florida</td>\n",
       "      <td>18801310</td>\n",
       "      <td>5.8</td>\n",
       "      <td>FL</td>\n",
       "    </tr>\n",
       "    <tr>\n",
       "      <th>9</th>\n",
       "      <td>Georgia</td>\n",
       "      <td>9687653</td>\n",
       "      <td>5.7</td>\n",
       "      <td>GA</td>\n",
       "    </tr>\n",
       "    <tr>\n",
       "      <th>10</th>\n",
       "      <td>Hawaii</td>\n",
       "      <td>1360301</td>\n",
       "      <td>1.8</td>\n",
       "      <td>HI</td>\n",
       "    </tr>\n",
       "    <tr>\n",
       "      <th>11</th>\n",
       "      <td>Idaho</td>\n",
       "      <td>1567582</td>\n",
       "      <td>2.0</td>\n",
       "      <td>ID</td>\n",
       "    </tr>\n",
       "    <tr>\n",
       "      <th>12</th>\n",
       "      <td>Illinois</td>\n",
       "      <td>12830632</td>\n",
       "      <td>5.3</td>\n",
       "      <td>IL</td>\n",
       "    </tr>\n",
       "    <tr>\n",
       "      <th>13</th>\n",
       "      <td>Indiana</td>\n",
       "      <td>6483802</td>\n",
       "      <td>5.0</td>\n",
       "      <td>IN</td>\n",
       "    </tr>\n",
       "    <tr>\n",
       "      <th>14</th>\n",
       "      <td>Iowa</td>\n",
       "      <td>3046355</td>\n",
       "      <td>1.9</td>\n",
       "      <td>IA</td>\n",
       "    </tr>\n",
       "    <tr>\n",
       "      <th>15</th>\n",
       "      <td>Kansas</td>\n",
       "      <td>2853118</td>\n",
       "      <td>3.1</td>\n",
       "      <td>KS</td>\n",
       "    </tr>\n",
       "    <tr>\n",
       "      <th>16</th>\n",
       "      <td>Kentucky</td>\n",
       "      <td>4339367</td>\n",
       "      <td>3.6</td>\n",
       "      <td>KY</td>\n",
       "    </tr>\n",
       "    <tr>\n",
       "      <th>17</th>\n",
       "      <td>Louisiana</td>\n",
       "      <td>4533372</td>\n",
       "      <td>10.3</td>\n",
       "      <td>LA</td>\n",
       "    </tr>\n",
       "    <tr>\n",
       "      <th>18</th>\n",
       "      <td>Maine</td>\n",
       "      <td>1328361</td>\n",
       "      <td>1.6</td>\n",
       "      <td>ME</td>\n",
       "    </tr>\n",
       "    <tr>\n",
       "      <th>19</th>\n",
       "      <td>Maryland</td>\n",
       "      <td>5773552</td>\n",
       "      <td>6.1</td>\n",
       "      <td>MD</td>\n",
       "    </tr>\n",
       "    <tr>\n",
       "      <th>20</th>\n",
       "      <td>Massachusetts</td>\n",
       "      <td>6547629</td>\n",
       "      <td>2.0</td>\n",
       "      <td>MA</td>\n",
       "    </tr>\n",
       "    <tr>\n",
       "      <th>21</th>\n",
       "      <td>Michigan</td>\n",
       "      <td>9883640</td>\n",
       "      <td>5.4</td>\n",
       "      <td>MI</td>\n",
       "    </tr>\n",
       "    <tr>\n",
       "      <th>22</th>\n",
       "      <td>Minnesota</td>\n",
       "      <td>5303925</td>\n",
       "      <td>1.6</td>\n",
       "      <td>MN</td>\n",
       "    </tr>\n",
       "    <tr>\n",
       "      <th>23</th>\n",
       "      <td>Mississippi</td>\n",
       "      <td>2967297</td>\n",
       "      <td>8.6</td>\n",
       "      <td>MS</td>\n",
       "    </tr>\n",
       "    <tr>\n",
       "      <th>24</th>\n",
       "      <td>Missouri</td>\n",
       "      <td>5988927</td>\n",
       "      <td>6.6</td>\n",
       "      <td>MO</td>\n",
       "    </tr>\n",
       "    <tr>\n",
       "      <th>25</th>\n",
       "      <td>Montana</td>\n",
       "      <td>989415</td>\n",
       "      <td>3.6</td>\n",
       "      <td>MT</td>\n",
       "    </tr>\n",
       "    <tr>\n",
       "      <th>26</th>\n",
       "      <td>Nebraska</td>\n",
       "      <td>1826341</td>\n",
       "      <td>2.9</td>\n",
       "      <td>NE</td>\n",
       "    </tr>\n",
       "    <tr>\n",
       "      <th>27</th>\n",
       "      <td>Nevada</td>\n",
       "      <td>2700551</td>\n",
       "      <td>6.0</td>\n",
       "      <td>NV</td>\n",
       "    </tr>\n",
       "    <tr>\n",
       "      <th>28</th>\n",
       "      <td>New Hampshire</td>\n",
       "      <td>1316470</td>\n",
       "      <td>0.9</td>\n",
       "      <td>NH</td>\n",
       "    </tr>\n",
       "    <tr>\n",
       "      <th>29</th>\n",
       "      <td>New Jersey</td>\n",
       "      <td>8791894</td>\n",
       "      <td>3.9</td>\n",
       "      <td>NJ</td>\n",
       "    </tr>\n",
       "    <tr>\n",
       "      <th>30</th>\n",
       "      <td>New Mexico</td>\n",
       "      <td>2059179</td>\n",
       "      <td>4.8</td>\n",
       "      <td>NM</td>\n",
       "    </tr>\n",
       "    <tr>\n",
       "      <th>31</th>\n",
       "      <td>New York</td>\n",
       "      <td>19378102</td>\n",
       "      <td>3.1</td>\n",
       "      <td>NY</td>\n",
       "    </tr>\n",
       "    <tr>\n",
       "      <th>32</th>\n",
       "      <td>North Carolina</td>\n",
       "      <td>9535483</td>\n",
       "      <td>5.1</td>\n",
       "      <td>NC</td>\n",
       "    </tr>\n",
       "    <tr>\n",
       "      <th>33</th>\n",
       "      <td>North Dakota</td>\n",
       "      <td>672591</td>\n",
       "      <td>3.0</td>\n",
       "      <td>ND</td>\n",
       "    </tr>\n",
       "    <tr>\n",
       "      <th>34</th>\n",
       "      <td>Ohio</td>\n",
       "      <td>11536504</td>\n",
       "      <td>4.0</td>\n",
       "      <td>OH</td>\n",
       "    </tr>\n",
       "    <tr>\n",
       "      <th>35</th>\n",
       "      <td>Oklahoma</td>\n",
       "      <td>3751351</td>\n",
       "      <td>4.5</td>\n",
       "      <td>OK</td>\n",
       "    </tr>\n",
       "    <tr>\n",
       "      <th>36</th>\n",
       "      <td>Oregon</td>\n",
       "      <td>3831074</td>\n",
       "      <td>2.0</td>\n",
       "      <td>OR</td>\n",
       "    </tr>\n",
       "    <tr>\n",
       "      <th>37</th>\n",
       "      <td>Pennsylvania</td>\n",
       "      <td>12702379</td>\n",
       "      <td>4.8</td>\n",
       "      <td>PA</td>\n",
       "    </tr>\n",
       "    <tr>\n",
       "      <th>38</th>\n",
       "      <td>Rhode Island</td>\n",
       "      <td>1052567</td>\n",
       "      <td>2.4</td>\n",
       "      <td>RI</td>\n",
       "    </tr>\n",
       "    <tr>\n",
       "      <th>39</th>\n",
       "      <td>South Carolina</td>\n",
       "      <td>4625364</td>\n",
       "      <td>6.4</td>\n",
       "      <td>SC</td>\n",
       "    </tr>\n",
       "    <tr>\n",
       "      <th>40</th>\n",
       "      <td>South Dakota</td>\n",
       "      <td>814180</td>\n",
       "      <td>2.3</td>\n",
       "      <td>SD</td>\n",
       "    </tr>\n",
       "    <tr>\n",
       "      <th>41</th>\n",
       "      <td>Tennessee</td>\n",
       "      <td>6346105</td>\n",
       "      <td>5.7</td>\n",
       "      <td>TN</td>\n",
       "    </tr>\n",
       "    <tr>\n",
       "      <th>42</th>\n",
       "      <td>Texas</td>\n",
       "      <td>25145561</td>\n",
       "      <td>4.4</td>\n",
       "      <td>TX</td>\n",
       "    </tr>\n",
       "    <tr>\n",
       "      <th>43</th>\n",
       "      <td>Utah</td>\n",
       "      <td>2763885</td>\n",
       "      <td>2.3</td>\n",
       "      <td>UT</td>\n",
       "    </tr>\n",
       "    <tr>\n",
       "      <th>44</th>\n",
       "      <td>Vermont</td>\n",
       "      <td>625741</td>\n",
       "      <td>1.6</td>\n",
       "      <td>VT</td>\n",
       "    </tr>\n",
       "    <tr>\n",
       "      <th>45</th>\n",
       "      <td>Virginia</td>\n",
       "      <td>8001024</td>\n",
       "      <td>4.1</td>\n",
       "      <td>VA</td>\n",
       "    </tr>\n",
       "    <tr>\n",
       "      <th>46</th>\n",
       "      <td>Washington</td>\n",
       "      <td>6724540</td>\n",
       "      <td>2.5</td>\n",
       "      <td>WA</td>\n",
       "    </tr>\n",
       "    <tr>\n",
       "      <th>47</th>\n",
       "      <td>West Virginia</td>\n",
       "      <td>1852994</td>\n",
       "      <td>4.0</td>\n",
       "      <td>WV</td>\n",
       "    </tr>\n",
       "    <tr>\n",
       "      <th>48</th>\n",
       "      <td>Wisconsin</td>\n",
       "      <td>5686986</td>\n",
       "      <td>2.9</td>\n",
       "      <td>WI</td>\n",
       "    </tr>\n",
       "    <tr>\n",
       "      <th>49</th>\n",
       "      <td>Wyoming</td>\n",
       "      <td>563626</td>\n",
       "      <td>2.7</td>\n",
       "      <td>WY</td>\n",
       "    </tr>\n",
       "  </tbody>\n",
       "</table>\n",
       "</div>"
      ],
      "text/plain": [
       "             State  Population  Murder.Rate Abbreviation\n",
       "0          Alabama     4779736          5.7           AL\n",
       "1           Alaska      710231          5.6           AK\n",
       "2          Arizona     6392017          4.7           AZ\n",
       "3         Arkansas     2915918          5.6           AR\n",
       "4       California    37253956          4.4           CA\n",
       "5         Colorado     5029196          2.8           CO\n",
       "6      Connecticut     3574097          2.4           CT\n",
       "7         Delaware      897934          5.8           DE\n",
       "8          Florida    18801310          5.8           FL\n",
       "9          Georgia     9687653          5.7           GA\n",
       "10          Hawaii     1360301          1.8           HI\n",
       "11           Idaho     1567582          2.0           ID\n",
       "12        Illinois    12830632          5.3           IL\n",
       "13         Indiana     6483802          5.0           IN\n",
       "14            Iowa     3046355          1.9           IA\n",
       "15          Kansas     2853118          3.1           KS\n",
       "16        Kentucky     4339367          3.6           KY\n",
       "17       Louisiana     4533372         10.3           LA\n",
       "18           Maine     1328361          1.6           ME\n",
       "19        Maryland     5773552          6.1           MD\n",
       "20   Massachusetts     6547629          2.0           MA\n",
       "21        Michigan     9883640          5.4           MI\n",
       "22       Minnesota     5303925          1.6           MN\n",
       "23     Mississippi     2967297          8.6           MS\n",
       "24        Missouri     5988927          6.6           MO\n",
       "25         Montana      989415          3.6           MT\n",
       "26        Nebraska     1826341          2.9           NE\n",
       "27          Nevada     2700551          6.0           NV\n",
       "28   New Hampshire     1316470          0.9           NH\n",
       "29      New Jersey     8791894          3.9           NJ\n",
       "30      New Mexico     2059179          4.8           NM\n",
       "31        New York    19378102          3.1           NY\n",
       "32  North Carolina     9535483          5.1           NC\n",
       "33    North Dakota      672591          3.0           ND\n",
       "34            Ohio    11536504          4.0           OH\n",
       "35        Oklahoma     3751351          4.5           OK\n",
       "36          Oregon     3831074          2.0           OR\n",
       "37    Pennsylvania    12702379          4.8           PA\n",
       "38    Rhode Island     1052567          2.4           RI\n",
       "39  South Carolina     4625364          6.4           SC\n",
       "40    South Dakota      814180          2.3           SD\n",
       "41       Tennessee     6346105          5.7           TN\n",
       "42           Texas    25145561          4.4           TX\n",
       "43            Utah     2763885          2.3           UT\n",
       "44         Vermont      625741          1.6           VT\n",
       "45        Virginia     8001024          4.1           VA\n",
       "46      Washington     6724540          2.5           WA\n",
       "47   West Virginia     1852994          4.0           WV\n",
       "48       Wisconsin     5686986          2.9           WI\n",
       "49         Wyoming      563626          2.7           WY"
      ]
     },
     "execution_count": 29,
     "metadata": {},
     "output_type": "execute_result"
    }
   ],
   "source": [
    "dataset"
   ]
  },
  {
   "attachments": {},
   "cell_type": "markdown",
   "metadata": {},
   "source": [
    "#### Dân số"
   ]
  },
  {
   "cell_type": "code",
   "execution_count": 30,
   "metadata": {},
   "outputs": [],
   "source": [
    "pop = dataset['Population'].to_numpy()"
   ]
  },
  {
   "attachments": {},
   "cell_type": "markdown",
   "metadata": {},
   "source": [
    "##### Độ lệch chuẩn"
   ]
  },
  {
   "cell_type": "code",
   "execution_count": 31,
   "metadata": {},
   "outputs": [],
   "source": [
    "import numpy as np\n",
    "def std(data):\n",
    "    data = np.array(data)\n",
    "    data_count = len(data)\n",
    "    data_sum = 0\n",
    "    for i in range(len(data)):\n",
    "        data_sum += data[i]\n",
    "    data_mean = data_sum/data_count\n",
    "    data_sum_sq = 0\n",
    "    for d in data:\n",
    "        data_sum_sq += pow(d-data_mean,2)\n",
    "    data_std = pow(data_sum_sq/data_count,0.5)\n",
    "    return data_std"
   ]
  },
  {
   "cell_type": "code",
   "execution_count": 32,
   "metadata": {},
   "outputs": [
    {
     "data": {
      "text/plain": [
       "6779407.114632265"
      ]
     },
     "execution_count": 32,
     "metadata": {},
     "output_type": "execute_result"
    }
   ],
   "source": [
    "pop_std = std(pop)\n",
    "pop_std"
   ]
  },
  {
   "attachments": {},
   "cell_type": "markdown",
   "metadata": {},
   "source": [
    "##### IQR"
   ]
  },
  {
   "cell_type": "code",
   "execution_count": 33,
   "metadata": {},
   "outputs": [],
   "source": [
    "def percentile(data, p):\n",
    "    data = np.sort(data)\n",
    "    if len(data)%2 == 0:\n",
    "        w = 0.5\n",
    "        j = int(len(data)*p/100)\n",
    "        res = (1-w)*data[j] + w*data[j+1]\n",
    "        return res\n",
    "    else:\n",
    "        j = int(len(data)*p/100)\n",
    "        return data[j]"
   ]
  },
  {
   "cell_type": "code",
   "execution_count": 34,
   "metadata": {},
   "outputs": [],
   "source": [
    "def IQR(data):\n",
    "    q1 = percentile(data, 25)\n",
    "    q3 = percentile(data, 75)\n",
    "    return q3-q1"
   ]
  },
  {
   "cell_type": "code",
   "execution_count": 35,
   "metadata": {},
   "outputs": [
    {
     "data": {
      "text/plain": [
       "5523114.5"
      ]
     },
     "execution_count": 35,
     "metadata": {},
     "output_type": "execute_result"
    }
   ],
   "source": [
    "pop_IQR = IQR(pop)\n",
    "pop_IQR"
   ]
  },
  {
   "attachments": {},
   "cell_type": "markdown",
   "metadata": {},
   "source": [
    "##### MAD"
   ]
  },
  {
   "cell_type": "code",
   "execution_count": 36,
   "metadata": {},
   "outputs": [],
   "source": [
    "def MAD(data):\n",
    "    ad = []\n",
    "    for p in data:\n",
    "        ad.append(abs(p-np.mean(data)))\n",
    "    return percentile(ad, 50)"
   ]
  },
  {
   "cell_type": "code",
   "execution_count": 37,
   "metadata": {},
   "outputs": [
    {
     "data": {
      "text/plain": [
       "3493551.0"
      ]
     },
     "execution_count": 37,
     "metadata": {},
     "output_type": "execute_result"
    }
   ],
   "source": [
    "pop_MAD = MAD(pop)\n",
    "pop_MAD"
   ]
  },
  {
   "attachments": {},
   "cell_type": "markdown",
   "metadata": {},
   "source": [
    "#### Tội phạm"
   ]
  },
  {
   "cell_type": "code",
   "execution_count": 38,
   "metadata": {},
   "outputs": [],
   "source": [
    "mr = dataset['Murder.Rate'].to_numpy()"
   ]
  },
  {
   "attachments": {},
   "cell_type": "markdown",
   "metadata": {},
   "source": [
    "##### Độ lệch chuẩn"
   ]
  },
  {
   "cell_type": "code",
   "execution_count": 39,
   "metadata": {},
   "outputs": [
    {
     "data": {
      "text/plain": [
       "1.8964820062420842"
      ]
     },
     "execution_count": 39,
     "metadata": {},
     "output_type": "execute_result"
    }
   ],
   "source": [
    "mr_std = std(mr)\n",
    "mr_std"
   ]
  },
  {
   "attachments": {},
   "cell_type": "markdown",
   "metadata": {},
   "source": [
    "##### IQR"
   ]
  },
  {
   "cell_type": "code",
   "execution_count": 40,
   "metadata": {},
   "outputs": [
    {
     "data": {
      "text/plain": [
       "3.1499999999999995"
      ]
     },
     "execution_count": 40,
     "metadata": {},
     "output_type": "execute_result"
    }
   ],
   "source": [
    "mr_IQR = IQR(mr)\n",
    "mr_IQR"
   ]
  },
  {
   "attachments": {},
   "cell_type": "markdown",
   "metadata": {},
   "source": [
    "##### MAD"
   ]
  },
  {
   "cell_type": "code",
   "execution_count": 41,
   "metadata": {},
   "outputs": [
    {
     "data": {
      "text/plain": [
       "1.6"
      ]
     },
     "execution_count": 41,
     "metadata": {},
     "output_type": "execute_result"
    }
   ],
   "source": [
    "mr_MAD = MAD(mr)\n",
    "mr_MAD"
   ]
  },
  {
   "attachments": {},
   "cell_type": "markdown",
   "metadata": {},
   "source": [
    "### Bài 4: Viết CT Python (ko dùng các hàm thư viện) để tính Frequency Table với 10 và 20 đoạn (bin) của dân số các bang nước Mỹ (dataset như BT 2). So sánh kết quả trong 2 trường hợp."
   ]
  },
  {
   "cell_type": "code",
   "execution_count": 42,
   "metadata": {},
   "outputs": [],
   "source": [
    "def freq_table(data, num_bins):\n",
    "    data_min = np.min(data)\n",
    "    data_max = np.max(data)\n",
    "    bin_size = (data_max - data_min)/num_bins\n",
    "    bins = np.zeros(num_bins+1)\n",
    "    bins[0] = data_min\n",
    "    for i in range(1, num_bins+1):\n",
    "        bins[i] = bins[i-1] + bin_size\n",
    "    counts = np.zeros(num_bins)\n",
    "    for d in data:\n",
    "        # if d equal data_max then bin_index would be equal to num_bins\n",
    "        bin_index = int((d-data_min)/bin_size)\n",
    "        if bin_index == num_bins:\n",
    "            counts[-1] += 1\n",
    "        else:\n",
    "            counts[bin_index] +=1\n",
    "    freq_table = {}\n",
    "    for i in range(num_bins):\n",
    "        bin_label = f\"{bins[i]:.1f}-{bins[i+1]:.1f}\"\n",
    "        freq_table[i] = (bin_label, int(counts[i]))\n",
    "    return freq_table\n",
    "    "
   ]
  },
  {
   "cell_type": "code",
   "execution_count": 43,
   "metadata": {},
   "outputs": [],
   "source": [
    "fq1 = freq_table(pop, 10)\n",
    "fq2 = freq_table(pop, 20)\n",
    "fq1 = pd.DataFrame.from_dict(fq1, orient='index', columns=['BinRange', 'Count'])\n",
    "fq2 = pd.DataFrame.from_dict(fq2, orient='index', columns=['BinRange', 'Count'])\n"
   ]
  },
  {
   "cell_type": "code",
   "execution_count": 44,
   "metadata": {},
   "outputs": [
    {
     "data": {
      "text/html": [
       "<div>\n",
       "<style scoped>\n",
       "    .dataframe tbody tr th:only-of-type {\n",
       "        vertical-align: middle;\n",
       "    }\n",
       "\n",
       "    .dataframe tbody tr th {\n",
       "        vertical-align: top;\n",
       "    }\n",
       "\n",
       "    .dataframe thead th {\n",
       "        text-align: right;\n",
       "    }\n",
       "</style>\n",
       "<table border=\"1\" class=\"dataframe\">\n",
       "  <thead>\n",
       "    <tr style=\"text-align: right;\">\n",
       "      <th></th>\n",
       "      <th>BinRange</th>\n",
       "      <th>Count</th>\n",
       "    </tr>\n",
       "  </thead>\n",
       "  <tbody>\n",
       "    <tr>\n",
       "      <th>0</th>\n",
       "      <td>563626.0-4232659.0</td>\n",
       "      <td>24</td>\n",
       "    </tr>\n",
       "    <tr>\n",
       "      <th>1</th>\n",
       "      <td>4232659.0-7901692.0</td>\n",
       "      <td>14</td>\n",
       "    </tr>\n",
       "    <tr>\n",
       "      <th>2</th>\n",
       "      <td>7901692.0-11570725.0</td>\n",
       "      <td>6</td>\n",
       "    </tr>\n",
       "    <tr>\n",
       "      <th>3</th>\n",
       "      <td>11570725.0-15239758.0</td>\n",
       "      <td>2</td>\n",
       "    </tr>\n",
       "    <tr>\n",
       "      <th>4</th>\n",
       "      <td>15239758.0-18908791.0</td>\n",
       "      <td>1</td>\n",
       "    </tr>\n",
       "    <tr>\n",
       "      <th>5</th>\n",
       "      <td>18908791.0-22577824.0</td>\n",
       "      <td>1</td>\n",
       "    </tr>\n",
       "    <tr>\n",
       "      <th>6</th>\n",
       "      <td>22577824.0-26246857.0</td>\n",
       "      <td>1</td>\n",
       "    </tr>\n",
       "    <tr>\n",
       "      <th>7</th>\n",
       "      <td>26246857.0-29915890.0</td>\n",
       "      <td>0</td>\n",
       "    </tr>\n",
       "    <tr>\n",
       "      <th>8</th>\n",
       "      <td>29915890.0-33584923.0</td>\n",
       "      <td>0</td>\n",
       "    </tr>\n",
       "    <tr>\n",
       "      <th>9</th>\n",
       "      <td>33584923.0-37253956.0</td>\n",
       "      <td>1</td>\n",
       "    </tr>\n",
       "  </tbody>\n",
       "</table>\n",
       "</div>"
      ],
      "text/plain": [
       "                BinRange  Count\n",
       "0     563626.0-4232659.0     24\n",
       "1    4232659.0-7901692.0     14\n",
       "2   7901692.0-11570725.0      6\n",
       "3  11570725.0-15239758.0      2\n",
       "4  15239758.0-18908791.0      1\n",
       "5  18908791.0-22577824.0      1\n",
       "6  22577824.0-26246857.0      1\n",
       "7  26246857.0-29915890.0      0\n",
       "8  29915890.0-33584923.0      0\n",
       "9  33584923.0-37253956.0      1"
      ]
     },
     "execution_count": 44,
     "metadata": {},
     "output_type": "execute_result"
    }
   ],
   "source": [
    "fq1"
   ]
  },
  {
   "cell_type": "code",
   "execution_count": 45,
   "metadata": {},
   "outputs": [
    {
     "data": {
      "text/html": [
       "<div>\n",
       "<style scoped>\n",
       "    .dataframe tbody tr th:only-of-type {\n",
       "        vertical-align: middle;\n",
       "    }\n",
       "\n",
       "    .dataframe tbody tr th {\n",
       "        vertical-align: top;\n",
       "    }\n",
       "\n",
       "    .dataframe thead th {\n",
       "        text-align: right;\n",
       "    }\n",
       "</style>\n",
       "<table border=\"1\" class=\"dataframe\">\n",
       "  <thead>\n",
       "    <tr style=\"text-align: right;\">\n",
       "      <th></th>\n",
       "      <th>BinRange</th>\n",
       "      <th>Count</th>\n",
       "    </tr>\n",
       "  </thead>\n",
       "  <tbody>\n",
       "    <tr>\n",
       "      <th>0</th>\n",
       "      <td>563626.0-2398142.5</td>\n",
       "      <td>15</td>\n",
       "    </tr>\n",
       "    <tr>\n",
       "      <th>1</th>\n",
       "      <td>2398142.5-4232659.0</td>\n",
       "      <td>9</td>\n",
       "    </tr>\n",
       "    <tr>\n",
       "      <th>2</th>\n",
       "      <td>4232659.0-6067175.5</td>\n",
       "      <td>9</td>\n",
       "    </tr>\n",
       "    <tr>\n",
       "      <th>3</th>\n",
       "      <td>6067175.5-7901692.0</td>\n",
       "      <td>5</td>\n",
       "    </tr>\n",
       "    <tr>\n",
       "      <th>4</th>\n",
       "      <td>7901692.0-9736208.5</td>\n",
       "      <td>4</td>\n",
       "    </tr>\n",
       "    <tr>\n",
       "      <th>5</th>\n",
       "      <td>9736208.5-11570725.0</td>\n",
       "      <td>2</td>\n",
       "    </tr>\n",
       "    <tr>\n",
       "      <th>6</th>\n",
       "      <td>11570725.0-13405241.5</td>\n",
       "      <td>2</td>\n",
       "    </tr>\n",
       "    <tr>\n",
       "      <th>7</th>\n",
       "      <td>13405241.5-15239758.0</td>\n",
       "      <td>0</td>\n",
       "    </tr>\n",
       "    <tr>\n",
       "      <th>8</th>\n",
       "      <td>15239758.0-17074274.5</td>\n",
       "      <td>0</td>\n",
       "    </tr>\n",
       "    <tr>\n",
       "      <th>9</th>\n",
       "      <td>17074274.5-18908791.0</td>\n",
       "      <td>1</td>\n",
       "    </tr>\n",
       "    <tr>\n",
       "      <th>10</th>\n",
       "      <td>18908791.0-20743307.5</td>\n",
       "      <td>1</td>\n",
       "    </tr>\n",
       "    <tr>\n",
       "      <th>11</th>\n",
       "      <td>20743307.5-22577824.0</td>\n",
       "      <td>0</td>\n",
       "    </tr>\n",
       "    <tr>\n",
       "      <th>12</th>\n",
       "      <td>22577824.0-24412340.5</td>\n",
       "      <td>0</td>\n",
       "    </tr>\n",
       "    <tr>\n",
       "      <th>13</th>\n",
       "      <td>24412340.5-26246857.0</td>\n",
       "      <td>1</td>\n",
       "    </tr>\n",
       "    <tr>\n",
       "      <th>14</th>\n",
       "      <td>26246857.0-28081373.5</td>\n",
       "      <td>0</td>\n",
       "    </tr>\n",
       "    <tr>\n",
       "      <th>15</th>\n",
       "      <td>28081373.5-29915890.0</td>\n",
       "      <td>0</td>\n",
       "    </tr>\n",
       "    <tr>\n",
       "      <th>16</th>\n",
       "      <td>29915890.0-31750406.5</td>\n",
       "      <td>0</td>\n",
       "    </tr>\n",
       "    <tr>\n",
       "      <th>17</th>\n",
       "      <td>31750406.5-33584923.0</td>\n",
       "      <td>0</td>\n",
       "    </tr>\n",
       "    <tr>\n",
       "      <th>18</th>\n",
       "      <td>33584923.0-35419439.5</td>\n",
       "      <td>0</td>\n",
       "    </tr>\n",
       "    <tr>\n",
       "      <th>19</th>\n",
       "      <td>35419439.5-37253956.0</td>\n",
       "      <td>1</td>\n",
       "    </tr>\n",
       "  </tbody>\n",
       "</table>\n",
       "</div>"
      ],
      "text/plain": [
       "                 BinRange  Count\n",
       "0      563626.0-2398142.5     15\n",
       "1     2398142.5-4232659.0      9\n",
       "2     4232659.0-6067175.5      9\n",
       "3     6067175.5-7901692.0      5\n",
       "4     7901692.0-9736208.5      4\n",
       "5    9736208.5-11570725.0      2\n",
       "6   11570725.0-13405241.5      2\n",
       "7   13405241.5-15239758.0      0\n",
       "8   15239758.0-17074274.5      0\n",
       "9   17074274.5-18908791.0      1\n",
       "10  18908791.0-20743307.5      1\n",
       "11  20743307.5-22577824.0      0\n",
       "12  22577824.0-24412340.5      0\n",
       "13  24412340.5-26246857.0      1\n",
       "14  26246857.0-28081373.5      0\n",
       "15  28081373.5-29915890.0      0\n",
       "16  29915890.0-31750406.5      0\n",
       "17  31750406.5-33584923.0      0\n",
       "18  33584923.0-35419439.5      0\n",
       "19  35419439.5-37253956.0      1"
      ]
     },
     "execution_count": 45,
     "metadata": {},
     "output_type": "execute_result"
    }
   ],
   "source": [
    "fq2"
   ]
  },
  {
   "attachments": {},
   "cell_type": "markdown",
   "metadata": {},
   "source": [
    "### Bootstrap method"
   ]
  },
  {
   "cell_type": "code",
   "execution_count": 56,
   "metadata": {},
   "outputs": [],
   "source": [
    "original_sample = [81,32,49,54,44,74,98,42,54,51,\n",
    "69,49,43,5,1,5,35,55,4,20,\n",
    "25,34,31,65,46,92,2,4,41,38]\n",
    "original_sample = np.array(original_sample)\n",
    "\n",
    "num_bootstraps = 1000\n",
    "sample_size = 20\n",
    "\n",
    "bootstraps = np.zeros((num_bootstraps, sample_size))\n",
    "\n",
    "for i in range(num_bootstraps):\n",
    "    for j in range(sample_size):\n",
    "        bootstrap_indices = np.random.choice(original_sample.shape[0],  replace=True)\n",
    "        bootstraps[i,j] = original_sample[bootstrap_indices]\n"
   ]
  },
  {
   "cell_type": "code",
   "execution_count": 57,
   "metadata": {},
   "outputs": [],
   "source": [
    "mean = np.mean(bootstraps, axis=1)\n",
    "median = np.median(bootstraps, axis=1)\n",
    "IQR = np.percentile(bootstraps, 75, axis=1) - np.percentile(bootstraps, 25, axis=1)\n",
    "std = np.std(bootstraps, axis=1)"
   ]
  },
  {
   "cell_type": "code",
   "execution_count": 58,
   "metadata": {},
   "outputs": [
    {
     "data": {
      "image/png": "[encoded data removed]",
      "text/plain": [
       "<Figure size 640x480 with 1 Axes>"
      ]
     },
     "metadata": {},
     "output_type": "display_data"
    }
   ],
   "source": [
    "import matplotlib.pyplot as plt\n",
    "plt.hist(mean, bins=[0, 10, 20, 30, 40, 50, 60, 70, 80, 90], edgecolor=\"yellow\", color=\"grey\", weights=np.ones_like(mean) / len(mean))\n",
    "plt.show()"
   ]
  }
 ],
 "metadata": {
  "kernelspec": {
   "display_name": "tf",
   "language": "python",
   "name": "python3"
  },
  "language_info": {
   "codemirror_mode": {
    "name": "ipython",
    "version": 3
   },
   "file_extension": ".py",
   "mimetype": "text/x-python",
   "name": "python",
   "nbconvert_exporter": "python",
   "pygments_lexer": "ipython3",
   "version": "3.9.15"
  },
  "orig_nbformat": 4,
  "vscode": {
   "interpreter": {
    "hash": "16ccff9736ee8d8cf03c740ddb2b3365030232f12d1fada1b3e7c560bbc533bc"
   }
  }
 },
 "nbformat": 4,
 "nbformat_minor": 2
}
